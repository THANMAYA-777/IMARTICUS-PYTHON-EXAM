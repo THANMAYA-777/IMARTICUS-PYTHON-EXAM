#question :8 (19/04/2022-Tuesday).

avg= [9,8,7,6,5]
import itertools as it
cum_avg=[]
cum_avg = it.accumulate(list(enumerate(avg)), lambda a,b: (b[0], (a[1]*(a[0]+1) + b[1])/(b[0]+1)))
final_out=list(map(lambda a: a[1], cum_avg))
print(final_out)
