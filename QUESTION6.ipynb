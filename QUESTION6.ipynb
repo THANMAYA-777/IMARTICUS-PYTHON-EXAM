#question : 6 (19/04/2022-Tuesday)

new_name=['santa Maria','Hello World','Marry christmas','tHank You']
new=[]
sub_list=[]
for i in new_name:
    new.append(i.split(' ')[0])
    new.append(i.split(' ')[1])
for i in new:
    if i[0].isupper():
        sub_list.append(i)
print("The Sub list Store the first upper case letter's words : ",sub_list)
