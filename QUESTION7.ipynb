#question : 7 (19/04/2022 -Tuesday)

list_of_set= [[1,2,3,4,8], [2,3,8,5,6], [8,4,5,3,7],[6,9,8,3],[9,12,3,7,6,8,4,6,21,1,6]]
final_intersection_set=set(list_of_set[0]).intersection(*given_sets)
print("Output:",final_intersection_set)
