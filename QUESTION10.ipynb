#question:10 (19/04/2022-Tuesday)

import datetime
date = ['17-12-1997','22-04-2011','01-05-1993','19-06-2020']
new_list=[]
for i in date:
    datem = datetime.datetime.strptime(i, "%d-%m-%Y")
    new_list.append(str(datem.year))
print(new_list)
