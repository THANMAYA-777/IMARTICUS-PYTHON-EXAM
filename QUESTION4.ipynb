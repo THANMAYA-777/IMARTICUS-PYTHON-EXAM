#question : 4 (19/04/2022-Tuesday)


lower_mix_upper=['hello','hOw','Dear','ARe','You']
d=[]
for i in range(0,len(lower_mix_upper)):
    s=lower_mix_upper[i]
    if s[1].isupper():
        d.append(s)
print(d)
