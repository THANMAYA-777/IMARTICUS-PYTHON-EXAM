#question : 1(19/04/2022-Tuesday)

pos=['good','best','awesome','nice']
neg=['worst','awful']
pos_out=[]
neg_out=[]
com=['He is good boy','Food is worst here','He is an awesome player','She is the best','The pizza tastes awful','These burgers are really nice']
for j in range(0,1):    
    for i in range(0,len(c)):
        if pos[j] in com[i] or pos[j+1] in com[i] or pos[j+2] in com[i] or pos[j+3] in com[i]:
            pos_out.append(com[i])
        elif neg[j] in com[i] or neg[j+1] in com[i]:
            neg_out.append(com[i])
print("The Positive Comments : ",pos_out)
print("THe Negative Comments : ",neg_out)
