#question : 9 (19/04/2022-Tuesday)

isbool = map(lambda x:x.upper(), ['True','FALse','tRUe','tRue','False','faLse'])
output = list(isbool)
print(output)
